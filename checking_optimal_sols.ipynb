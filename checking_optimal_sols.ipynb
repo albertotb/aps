{
 "cells": [
  {
   "cell_type": "code",
   "execution_count": 58,
   "metadata": {
    "collapsed": true
   },
   "outputs": [],
   "source": [
    "import numpy as np\n",
    "import pandas as pd\n",
    "import sys\n",
    "from joblib import Parallel, delayed\n",
    "from scipy.stats import mode\n",
    "from importlib import import_module\n",
    "import os.path\n",
    "from scipy.stats import mode\n",
    "\n",
    "sys.path.append('.')"
   ]
  },
  {
   "cell_type": "markdown",
   "metadata": {},
   "source": [
    "## Peaking the APS solution - Example Figure 3"
   ]
  },
  {
   "cell_type": "code",
   "execution_count": 51,
   "metadata": {},
   "outputs": [],
   "source": [
    "p = import_module(f'data.prob1')"
   ]
  },
  {
   "cell_type": "code",
   "execution_count": 65,
   "metadata": {
    "collapsed": true
   },
   "outputs": [],
   "source": [
    "def propose(x_given, x_values):\n",
    "    if x_given == x_values[0]:\n",
    "        return( np.random.choice([x_values[1], x_values[-1]],\n",
    "        p=[0.5, 0.5]) )\n",
    "\n",
    "    if x_given == x_values[-1]:\n",
    "        return( np.random.choice([x_values[0], x_values[-2]],\n",
    "        p=[0.5, 0.5]) )\n",
    "\n",
    "    idx = list(x_values).index(x_given)\n",
    "    return( np.random.choice([x_values[idx+1], x_values[idx-1]],\n",
    "    p=[0.5, 0.5]) )\n",
    "\n",
    "def propose2(a_sim, a_values):\n",
    "    return np.random.choice(a_values)\n"
   ]
  },
  {
   "cell_type": "code",
   "execution_count": 93,
   "metadata": {},
   "outputs": [],
   "source": [
    "def iter_mcmc_defender(J, propose, d_sim, theta_sim, a_star):\n",
    "    \n",
    "    d_tilde = propose(d_sim, p.d_values)\n",
    "    a_tilde = np.ones(J, dtype='int') * a_star[p.d_values == d_tilde]\n",
    "    theta_tilde = np.array([p.prob(d_tilde, a) for a in a_tilde])[:,0]\n",
    "\n",
    "    num = p.d_util(d_tilde, theta_tilde)\n",
    "\n",
    "    den = p.d_util(d_sim, theta_sim)\n",
    "\n",
    "    quot = np.prod(num/den)\n",
    "\n",
    "    if np.random.uniform() <= quot:\n",
    "        return d_tilde, theta_tilde\n",
    "    else:\n",
    "        return d_sim, theta_sim\n",
    "    \n",
    "def solve_defender(J_max, a_star, propose, burnin):\n",
    "    J = 1\n",
    "    J_grid = range(1, J_max)\n",
    "    d_sim = np.zeros(len(J_grid), dtype = int)\n",
    "    d_sim[0] = np.random.choice(p.d_values)\n",
    "    a_sim = np.ones(J, dtype='int') * a_star[p.d_values == d_sim[0]]\n",
    "    theta_sim = np.array([p.prob(d_sim[0], a) for a in a_sim])[:,0]\n",
    "    ##\n",
    "    for i, J in enumerate(J_grid):\n",
    "\n",
    "        d_sim[i], theta_sim = iter_mcmc_defender(J, propose, d_sim[i-1], theta_sim, a_star)\n",
    "        theta_sim = np.append(theta_sim, np.random.choice(theta_sim))\n",
    "        if J%10 == 0:\n",
    "            burnin = int(0.2*i)\n",
    "            print( mode(d_sim[burnin:i])[0][0] ) \n",
    "            dist = pd.Series(d_sim[burnin:i])\n",
    "            name = 'results/prob1_EC/prob1_adg_peaked' + str(J) + '.csv'\n",
    "            dist.to_csv(name, index = False)"
   ]
  },
  {
   "cell_type": "code",
   "execution_count": 95,
   "metadata": {},
   "outputs": [
    {
     "name": "stdout",
     "output_type": "stream",
     "text": [
      "6\n",
      "6\n",
      "8\n",
      "8\n",
      "8\n",
      "8\n",
      "9\n"
     ]
    },
    {
     "name": "stderr",
     "output_type": "stream",
     "text": [
      "/home/roi/anaconda3/lib/python3.6/site-packages/ipykernel_launcher.py:35: FutureWarning: The signature of `Series.to_csv` was aligned to that of `DataFrame.to_csv`, and argument 'header' will change its default value from False to True: please pass an explicit value to suppress this warning.\n"
     ]
    },
    {
     "name": "stdout",
     "output_type": "stream",
     "text": [
      "9\n",
      "9\n",
      "9\n",
      "9\n",
      "9\n",
      "9\n",
      "9\n",
      "9\n",
      "9\n",
      "9\n",
      "9\n",
      "8\n",
      "8\n",
      "9\n",
      "8\n",
      "8\n",
      "8\n",
      "8\n",
      "8\n",
      "8\n",
      "8\n",
      "8\n",
      "8\n",
      "8\n",
      "8\n",
      "8\n",
      "8\n",
      "8\n",
      "8\n",
      "8\n",
      "8\n",
      "8\n",
      "8\n",
      "8\n",
      "8\n",
      "8\n",
      "8\n",
      "8\n",
      "8\n",
      "8\n",
      "8\n",
      "8\n"
     ]
    }
   ],
   "source": [
    "a_star = np.array([1,1,1,1,1,1,1,1,0,0])\n",
    "solve_defender(500, a_star, propose2, burnin=0.2)"
   ]
  },
  {
   "cell_type": "markdown",
   "metadata": {},
   "source": [
    "## Peaking the APS solution - Example Figure 7"
   ]
  },
  {
   "cell_type": "code",
   "execution_count": 110,
   "metadata": {
    "collapsed": true
   },
   "outputs": [],
   "source": [
    "def iter_mcmc_defender(J, propose, d_sim, theta_sim, p_ad):\n",
    "    d_tilde = propose(d_sim, p.d_values)\n",
    "    a_tilde = np.random.choice(p.a_values, p=p_ad[p.d_values == d_tilde, :][0], size = J)\n",
    "    theta_tilde = np.array([p.prob(d_tilde, a) for a in a_tilde])[:,0]\n",
    "\n",
    "    num = p.d_util(d_tilde, theta_tilde)\n",
    "\n",
    "    den = p.d_util(d_sim, theta_sim)\n",
    "\n",
    "    quot = np.prod(num/den)\n",
    "\n",
    "    if np.random.uniform() <= quot:\n",
    "        return d_tilde, theta_tilde\n",
    "    else:\n",
    "        return d_sim, theta_sim\n",
    "\n",
    "    \n",
    "# With Muller's trick\n",
    "def solve_defender(J_max, p_ad, propose, burnin):\n",
    "    J = 1\n",
    "    J_grid = range(1, J_max)\n",
    "    d_sim = np.zeros(len(J_grid), dtype = int)\n",
    "    d_sim[0] = np.random.choice(p.d_values)\n",
    "    a_sim = np.random.choice(p.a_values, p=p_ad[p.d_values == d_sim[0], :][0], size = J)\n",
    "    theta_sim = np.array([p.prob(d_sim[0], a) for a in a_sim])[:,0]\n",
    "    ##\n",
    "    for i, J in enumerate(J_grid):\n",
    "\n",
    "        d_sim[i], theta_sim = iter_mcmc_defender(J, propose, d_sim[i-1], theta_sim, p_ad)\n",
    "        theta_sim = np.append(theta_sim, np.random.choice(theta_sim))\n",
    "        if J%10 == 0:\n",
    "            burnin = int(0.2*i)\n",
    "            print( mode(d_sim[burnin:i])[0][0] ) \n",
    "            dist = pd.Series(d_sim[burnin:i])\n",
    "            name = 'results/prob1_EC/prob1_ara_peaked' + str(J) + '.csv'\n",
    "            dist.to_csv(name, index = False)"
   ]
  },
  {
   "cell_type": "code",
   "execution_count": 111,
   "metadata": {},
   "outputs": [
    {
     "name": "stdout",
     "output_type": "stream",
     "text": [
      "9\n",
      "9\n",
      "8\n",
      "8\n",
      "8\n",
      "9\n",
      "9\n",
      "9\n"
     ]
    },
    {
     "name": "stderr",
     "output_type": "stream",
     "text": [
      "/home/roi/anaconda3/lib/python3.6/site-packages/ipykernel_launcher.py:36: FutureWarning: The signature of `Series.to_csv` was aligned to that of `DataFrame.to_csv`, and argument 'header' will change its default value from False to True: please pass an explicit value to suppress this warning.\n"
     ]
    },
    {
     "name": "stdout",
     "output_type": "stream",
     "text": [
      "9\n",
      "9\n",
      "9\n",
      "9\n",
      "9\n",
      "9\n",
      "9\n",
      "9\n",
      "9\n",
      "9\n",
      "9\n",
      "9\n",
      "9\n",
      "9\n",
      "9\n",
      "9\n",
      "9\n",
      "9\n",
      "9\n",
      "9\n",
      "9\n",
      "9\n",
      "9\n",
      "9\n",
      "9\n",
      "9\n",
      "9\n",
      "9\n",
      "9\n",
      "9\n",
      "9\n",
      "9\n",
      "9\n",
      "9\n",
      "9\n",
      "9\n",
      "9\n",
      "9\n",
      "9\n",
      "9\n",
      "9\n"
     ]
    }
   ],
   "source": [
    "p_ad = pd.read_csv('results/1586874387_prob1_aps_ara_pa.csv', index_col=['d'])\n",
    "solve_defender(500, p_ad.values, propose2, burnin=0.2)"
   ]
  },
  {
   "cell_type": "code",
   "execution_count": null,
   "metadata": {
    "collapsed": true
   },
   "outputs": [],
   "source": []
  }
 ],
 "metadata": {
  "kernelspec": {
   "display_name": "Python 3",
   "language": "python",
   "name": "python3"
  },
  "language_info": {
   "codemirror_mode": {
    "name": "ipython",
    "version": 3
   },
   "file_extension": ".py",
   "mimetype": "text/x-python",
   "name": "python",
   "nbconvert_exporter": "python",
   "pygments_lexer": "ipython3",
   "version": "3.6.8"
  }
 },
 "nbformat": 4,
 "nbformat_minor": 2
}
