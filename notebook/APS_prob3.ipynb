{
 "cells": [
  {
   "cell_type": "code",
   "execution_count": 381,
   "metadata": {
    "collapsed": true
   },
   "outputs": [],
   "source": [
    "import pandas as pd\n",
    "from prob3 import *\n",
    "from scipy.stats import mode\n",
    "import matplotlib.pyplot as plt"
   ]
  },
  {
   "cell_type": "code",
   "execution_count": 382,
   "metadata": {
    "collapsed": true
   },
   "outputs": [],
   "source": [
    "res = pd.read_pickle(\"results/prob3_mcmc_ara.pkl\")"
   ]
  },
  {
   "cell_type": "code",
   "execution_count": 383,
   "metadata": {
    "collapsed": true
   },
   "outputs": [],
   "source": [
    "p_d = res[\"p_a\"]"
   ]
  },
  {
   "cell_type": "code",
   "execution_count": 249,
   "metadata": {
    "collapsed": true
   },
   "outputs": [],
   "source": [
    "## Main APS loop"
   ]
  },
  {
   "cell_type": "code",
   "execution_count": 250,
   "metadata": {
    "collapsed": true
   },
   "outputs": [],
   "source": [
    "def propose(x_given, x_values):\n",
    "    if x_given == x_values[0]:\n",
    "        return( np.random.choice([x_values[1], x_values[-1]],\n",
    "        p=[0.5, 0.5]) )\n",
    "\n",
    "    if x_given == x_values[-1]:\n",
    "        return( np.random.choice([x_values[0], x_values[-2]],\n",
    "        p=[0.5, 0.5]) )\n",
    "\n",
    "    idx = list(x_values).index(x_given)\n",
    "    return( np.random.choice([x_values[idx+1], x_values[idx-1]],\n",
    "    p=[0.5, 0.5]) )\n"
   ]
  },
  {
   "cell_type": "code",
   "execution_count": 251,
   "metadata": {
    "collapsed": true
   },
   "outputs": [],
   "source": [
    "N_aps = 10000000\n",
    "burnin = 0.20\n",
    "##\n",
    "d_sim = np.zeros(N_aps, dtype = int)\n",
    "d_sim[0] = np.random.choice(d_values)\n",
    "a_sim = np.random.choice(a_values, p=p_d.loc[d_sim[0]])\n",
    "theta_sim = prob(d_sim[0], a_sim)"
   ]
  },
  {
   "cell_type": "code",
   "execution_count": 252,
   "metadata": {
    "collapsed": true
   },
   "outputs": [],
   "source": [
    "for i in range(1,N_aps):\n",
    "    ## Update d\n",
    "    d_tilde = propose(d_sim[i-1], d_values)\n",
    "    a_tilde = np.random.choice(a_values, p=p_d.loc[d_tilde])\n",
    "    theta_tilde = prob(d_tilde, a_tilde)\n",
    "\n",
    "    num = d_util(d_tilde, theta_tilde)\n",
    "\n",
    "    den = d_util(d_sim[i-1], theta_sim)\n",
    "\n",
    "\n",
    "    if np.random.uniform() <= num/den:\n",
    "        d_sim[i] = d_tilde\n",
    "        a_sim = a_tilde\n",
    "        theta_sim = theta_tilde\n",
    "    else:\n",
    "        d_sim[i] = d_sim[i-1]\n",
    "\n",
    "\n",
    "d_dist = d_sim[int(burnin*N_aps):]\n",
    "#return(mode(d_dist)[0], p_d, d_dist)\n"
   ]
  },
  {
   "cell_type": "code",
   "execution_count": 372,
   "metadata": {
    "collapsed": true
   },
   "outputs": [],
   "source": [
    "df_ddist = pd.read_csv(\"dist.csv\")"
   ]
  },
  {
   "cell_type": "code",
   "execution_count": 373,
   "metadata": {},
   "outputs": [
    {
     "data": {
      "image/png": "[encoded data removed]",
      "text/plain": [
       "<Figure size 432x288 with 1 Axes>"
      ]
     },
     "metadata": {},
     "output_type": "display_data"
    }
   ],
   "source": [
    "# df_ddist = pd.DataFrame(d_dist)\n",
    "df_ddist.plot.hist( bins = len(d_values) )\n",
    "plt.show()"
   ]
  },
  {
   "cell_type": "code",
   "execution_count": 243,
   "metadata": {},
   "outputs": [
    {
     "name": "stdout",
     "output_type": "stream",
     "text": [
      "195\n"
     ]
    }
   ],
   "source": [
    "N_aps = 100000\n",
    "burnin = 0.20\n",
    "J = 1000\n",
    "##\n",
    "d_sim = np.zeros(N_aps, dtype = int)\n",
    "d_sim[0] = np.random.choice(d_values)\n",
    "print(d_sim[0])\n",
    "a_sim = np.random.choice(a_values, p=p_d.loc[d_sim[0]])\n",
    "theta_sim = prob(d_sim[0], a_sim, size=J)\n",
    "\n",
    "for i in range(1,N_aps):\n",
    "    ## Update d\n",
    "    #d_tilde = propose(d_sim[i-1])\n",
    "    d_tilde = propose(d_sim[i-1], d_values)\n",
    "    a_tilde = np.random.choice(a_values, p=p_d.loc[d_tilde])\n",
    "    theta_tilde = prob(d_tilde, a_tilde, size=J)\n",
    "\n",
    "    num = d_util(d_tilde, theta_tilde)\n",
    "\n",
    "    den = d_util(d_sim[i-1], theta_sim)\n",
    "\n",
    "    if np.random.uniform() <= np.prod(num/den):\n",
    "        d_sim[i] = d_tilde\n",
    "        a_sim = a_tilde\n",
    "        theta_sim = theta_tilde\n",
    "    else:\n",
    "        d_sim[i] = d_sim[i-1]\n",
    "\n",
    "d_dist = d_sim[int(burnin*N_aps):]\n",
    "###"
   ]
  },
  {
   "cell_type": "code",
   "execution_count": 244,
   "metadata": {},
   "outputs": [
    {
     "data": {
      "image/png": "[encoded data removed]",
      "text/plain": [
       "<Figure size 432x288 with 1 Axes>"
      ]
     },
     "metadata": {},
     "output_type": "display_data"
    }
   ],
   "source": [
    "df_ddist = pd.DataFrame(d_dist)\n",
    "df_ddist.plot.hist( bins = len(d_values) )\n",
    "plt.show()"
   ]
  },
  {
   "cell_type": "code",
   "execution_count": 242,
   "metadata": {},
   "outputs": [
    {
     "data": {
      "text/plain": [
       "ModeResult(mode=array([0]), count=array([6051]))"
      ]
     },
     "execution_count": 242,
     "metadata": {},
     "output_type": "execute_result"
    }
   ],
   "source": [
    "mode(d_dist)"
   ]
  },
  {
   "cell_type": "code",
   "execution_count": 140,
   "metadata": {
    "collapsed": true
   },
   "outputs": [],
   "source": [
    "## MCMC"
   ]
  },
  {
   "cell_type": "code",
   "execution_count": 379,
   "metadata": {},
   "outputs": [],
   "source": [
    "d_values = np.arange(0, 1000, 100)"
   ]
  },
  {
   "cell_type": "code",
   "execution_count": 380,
   "metadata": {},
   "outputs": [
    {
     "data": {
      "image/png": "[encoded data removed]",
      "text/plain": [
       "<Figure size 432x288 with 1 Axes>"
      ]
     },
     "metadata": {},
     "output_type": "display_data"
    }
   ],
   "source": [
    "mcmc_iters = 10000\n",
    "##\n",
    "psi_d = np.zeros(len(d_values), dtype=float) \n",
    "for i, d in enumerate(d_values):\n",
    "    a = np.random.choice(a_values, p=p_d.loc[d_tilde], size=mcmc_iters)\n",
    "    theta_d = np.array([])\n",
    "    for k in a:\n",
    "        theta_d = np.append(theta_d,prob(d,k))\n",
    "    value = d_util(d, theta_d).mean()\n",
    "    psi_d[i] = value\n",
    "    \n",
    "psi = pd.DataFrame({\"d\":d_values, \"ut\":psi_d})\n",
    "psi[\"d\"] = d_values\n",
    "psi.plot.bar( x =  \"d\", y = \"ut\")\n",
    "plt.show()"
   ]
  },
  {
   "cell_type": "code",
   "execution_count": 218,
   "metadata": {},
   "outputs": [
    {
     "data": {
      "text/plain": [
       "135"
      ]
     },
     "execution_count": 218,
     "metadata": {},
     "output_type": "execute_result"
    }
   ],
   "source": [
    "d_values[np.argmax(psi_d)]"
   ]
  }
 ],
 "metadata": {
  "kernelspec": {
   "display_name": "Python 3",
   "language": "python",
   "name": "python3"
  },
  "language_info": {
   "codemirror_mode": {
    "name": "ipython",
    "version": 3
   },
   "file_extension": ".py",
   "mimetype": "text/x-python",
   "name": "python",
   "nbconvert_exporter": "python",
   "pygments_lexer": "ipython3",
   "version": "3.6.3"
  }
 },
 "nbformat": 4,
 "nbformat_minor": 2
}
