{
 "cells": [
  {
   "cell_type": "code",
   "execution_count": 2,
   "metadata": {
    "collapsed": true
   },
   "outputs": [],
   "source": [
    "import pandas as pd\n",
    "import os,sys,inspect\n",
    "current_dir = os.path.dirname(os.path.abspath(inspect.getfile(inspect.currentframe())))\n",
    "parent_dir = os.path.dirname(current_dir)\n",
    "sys.path.insert(0, parent_dir) \n",
    "from prob3 import *\n",
    "from scipy.stats import mode\n",
    "import matplotlib.pyplot as plt"
   ]
  },
  {
   "cell_type": "code",
   "execution_count": 4,
   "metadata": {
    "collapsed": true
   },
   "outputs": [],
   "source": [
    "res = pd.read_pickle(\"../results/prob3_mcmc_ara.pkl\")"
   ]
  },
  {
   "cell_type": "code",
   "execution_count": 5,
   "metadata": {
    "collapsed": true
   },
   "outputs": [],
   "source": [
    "p_d = res[\"p_a\"]"
   ]
  },
  {
   "cell_type": "code",
   "execution_count": 6,
   "metadata": {
    "collapsed": true
   },
   "outputs": [],
   "source": [
    "## Main APS loop"
   ]
  },
  {
   "cell_type": "code",
   "execution_count": 7,
   "metadata": {
    "collapsed": true
   },
   "outputs": [],
   "source": [
    "def propose(x_given, x_values):\n",
    "    if x_given == x_values[0]:\n",
    "        return( np.random.choice([x_values[1], x_values[-1]],\n",
    "        p=[0.5, 0.5]) )\n",
    "\n",
    "    if x_given == x_values[-1]:\n",
    "        return( np.random.choice([x_values[0], x_values[-2]],\n",
    "        p=[0.5, 0.5]) )\n",
    "\n",
    "    idx = list(x_values).index(x_given)\n",
    "    return( np.random.choice([x_values[idx+1], x_values[idx-1]],\n",
    "    p=[0.5, 0.5]) )\n"
   ]
  },
  {
   "cell_type": "code",
   "execution_count": 251,
   "metadata": {
    "collapsed": true
   },
   "outputs": [],
   "source": [
    "N_aps = 10000000\n",
    "burnin = 0.20\n",
    "##\n",
    "d_sim = np.zeros(N_aps, dtype = int)\n",
    "d_sim[0] = np.random.choice(d_values)\n",
    "a_sim = np.random.choice(a_values, p=p_d.loc[d_sim[0]])\n",
    "theta_sim = prob(d_sim[0], a_sim)"
   ]
  },
  {
   "cell_type": "code",
   "execution_count": 252,
   "metadata": {
    "collapsed": true
   },
   "outputs": [],
   "source": [
    "for i in range(1,N_aps):\n",
    "    ## Update d\n",
    "    d_tilde = propose(d_sim[i-1], d_values)\n",
    "    a_tilde = np.random.choice(a_values, p=p_d.loc[d_tilde])\n",
    "    theta_tilde = prob(d_tilde, a_tilde)\n",
    "\n",
    "    num = d_util(d_tilde, theta_tilde)\n",
    "\n",
    "    den = d_util(d_sim[i-1], theta_sim)\n",
    "\n",
    "\n",
    "    if np.random.uniform() <= num/den:\n",
    "        d_sim[i] = d_tilde\n",
    "        a_sim = a_tilde\n",
    "        theta_sim = theta_tilde\n",
    "    else:\n",
    "        d_sim[i] = d_sim[i-1]\n",
    "\n",
    "\n",
    "d_dist = d_sim[int(burnin*N_aps):]\n",
    "#return(mode(d_dist)[0], p_d, d_dist)\n"
   ]
  },
  {
   "cell_type": "code",
   "execution_count": 372,
   "metadata": {
    "collapsed": true
   },
   "outputs": [],
   "source": [
    "df_ddist = pd.read_csv(\"../results/dist.csv\")"
   ]
  },
  {
   "cell_type": "code",
   "execution_count": 373,
   "metadata": {},
   "outputs": [
    {
     "data": {
      "image/png": "[encoded data removed]",
      "text/plain": [
       "<Figure size 432x288 with 1 Axes>"
      ]
     },
     "metadata": {},
     "output_type": "display_data"
    }
   ],
   "source": [
    "# df_ddist = pd.DataFrame(d_dist)\n",
    "df_ddist.plot.hist( bins = len(d_values) )\n",
    "plt.show()"
   ]
  }
 ],
 "metadata": {
  "kernelspec": {
   "display_name": "Python 3",
   "language": "python",
   "name": "python3"
  },
  "language_info": {
   "codemirror_mode": {
    "name": "ipython",
    "version": 3
   },
   "file_extension": ".py",
   "mimetype": "text/x-python",
   "name": "python",
   "nbconvert_exporter": "python",
   "pygments_lexer": "ipython3",
   "version": "3.6.3"
  }
 },
 "nbformat": 4,
 "nbformat_minor": 2
}
