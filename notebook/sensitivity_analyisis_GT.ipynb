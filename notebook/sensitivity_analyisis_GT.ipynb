{
 "cells": [
  {
   "cell_type": "markdown",
   "metadata": {},
   "source": [
    "# Sensitivity Analyisis of Game Theoretic Solution"
   ]
  },
  {
   "cell_type": "code",
   "execution_count": 7,
   "metadata": {},
   "outputs": [
    {
     "ename": "ModuleNotFoundError",
     "evalue": "No module named 'prob1_mod'",
     "output_type": "error",
     "traceback": [
      "\u001b[0;31m---------------------------------------------------------------------------\u001b[0m",
      "\u001b[0;31mModuleNotFoundError\u001b[0m                       Traceback (most recent call last)",
      "\u001b[0;32m<ipython-input-7-d78ac046d0e6>\u001b[0m in \u001b[0;36m<module>\u001b[0;34m()\u001b[0m\n\u001b[1;32m      3\u001b[0m \u001b[0;31m##\u001b[0m\u001b[0;34m\u001b[0m\u001b[0;34m\u001b[0m\u001b[0m\n\u001b[1;32m      4\u001b[0m \u001b[0;32mfrom\u001b[0m \u001b[0mscipy\u001b[0m\u001b[0;34m.\u001b[0m\u001b[0mstats\u001b[0m \u001b[0;32mimport\u001b[0m \u001b[0muniform\u001b[0m\u001b[0;34m,\u001b[0m \u001b[0mbeta\u001b[0m\u001b[0;34m,\u001b[0m \u001b[0mbernoulli\u001b[0m\u001b[0;34m\u001b[0m\u001b[0m\n\u001b[0;32m----> 5\u001b[0;31m \u001b[0;32mimport\u001b[0m \u001b[0mprob1_mod\u001b[0m \u001b[0;32mas\u001b[0m \u001b[0mp\u001b[0m\u001b[0;34m\u001b[0m\u001b[0m\n\u001b[0m\u001b[1;32m      6\u001b[0m \u001b[0;32mfrom\u001b[0m \u001b[0mmcmc\u001b[0m \u001b[0;32mimport\u001b[0m \u001b[0mmcmc_adg\u001b[0m\u001b[0;34m,\u001b[0m \u001b[0mmcmc_ara\u001b[0m\u001b[0;34m\u001b[0m\u001b[0m\n\u001b[1;32m      7\u001b[0m \u001b[0;32mimport\u001b[0m \u001b[0mmatplotlib\u001b[0m\u001b[0;34m.\u001b[0m\u001b[0mpyplot\u001b[0m \u001b[0;32mas\u001b[0m \u001b[0mplt\u001b[0m\u001b[0;34m\u001b[0m\u001b[0m\n",
      "\u001b[0;31mModuleNotFoundError\u001b[0m: No module named 'prob1_mod'"
     ]
    }
   ],
   "source": [
    "import pandas as pd\n",
    "import numpy as np\n",
    "##\n",
    "from scipy.stats import uniform, beta, bernoulli\n",
    "import prob1_mod as p\n",
    "from mcmc import mcmc_adg, mcmc_ara\n",
    "import matplotlib.pyplot as plt\n",
    "from plotnine import *"
   ]
  },
  {
   "cell_type": "markdown",
   "metadata": {},
   "source": [
    "## Parameters"
   ]
  },
  {
   "cell_type": "code",
   "execution_count": 2,
   "metadata": {
    "collapsed": true
   },
   "outputs": [],
   "source": [
    "K = 10000 ## Number of perturbations\n",
    "iters=10000 ## Number of iterations for MC approximation"
   ]
  },
  {
   "cell_type": "markdown",
   "metadata": {},
   "source": [
    "## Perturbations"
   ]
  },
  {
   "cell_type": "markdown",
   "metadata": {},
   "source": [
    "### Perturbations on RP coefficient"
   ]
  },
  {
   "cell_type": "code",
   "execution_count": 190,
   "metadata": {
    "collapsed": true
   },
   "outputs": [],
   "source": [
    "e_values = uniform.rvs(0, 2, size=K) ##  Perturbations on RP coefficient"
   ]
  },
  {
   "cell_type": "markdown",
   "metadata": {},
   "source": [
    "### Perturbations on probabilities"
   ]
  },
  {
   "cell_type": "code",
   "execution_count": 191,
   "metadata": {
    "collapsed": true
   },
   "outputs": [],
   "source": [
    "def exp_beta(alpha, beta):\n",
    "    return alpha / (alpha + beta)\n",
    "##\n",
    "def beta_params(mu, var):\n",
    "    alpha = ( (1-mu)/var - 1/mu ) * mu**2\n",
    "    beta = ( 1/mu - 1 )*alpha\n",
    "    return alpha, beta\n",
    "\n",
    "means = exp_beta(p.alpha_values, p.beta_values)\n",
    "k = 0.2\n",
    "\n",
    "alpha_perturbed, beta_perturbed =  beta_params(means, k*means)\n",
    "\n",
    "def perturb_probabilities(k, p_original):\n",
    "    p_pert = np.zeros_like(p_original)\n",
    "    means = p_original[:,1]\n",
    "    alpha_pert, beta_pert = beta_params(means, k* means)\n",
    "    perturba = np.zeros_like(alpha_pert)\n",
    "    for i in range( len(alpha_pert) ):\n",
    "        perturba[i] = beta.rvs( alpha_pert[i], beta_pert[i] ) \n",
    "    ##    \n",
    "    p_pert[:,1] = perturba\n",
    "    p_pert_f = lambda d, a: p_pert[d,a]\n",
    "    return p_pert_f"
   ]
  },
  {
   "cell_type": "code",
   "execution_count": 192,
   "metadata": {
    "collapsed": true
   },
   "outputs": [],
   "source": [
    "#def a_prob(d, a, size=1):\n",
    "#    p_pert = beta.rvs(a=alpha_perturbed[d], b=beta_perturbed[d])\n",
    "#    return bernoulli.rvs(p=p_pert, size=size) if a==1 else np.zeros(size, dtype=int)"
   ]
  },
  {
   "cell_type": "markdown",
   "metadata": {},
   "source": [
    "## Main Loop"
   ]
  },
  {
   "cell_type": "code",
   "execution_count": 193,
   "metadata": {
    "collapsed": true
   },
   "outputs": [],
   "source": [
    "def compute_exact_solution(d_values, a_values, d_ut, a_ut, p):\n",
    "    ##\n",
    "    def exp_util_def(d, a):\n",
    "        return p(d,a) * d_ut(d, 1) + (1 - p(d,a)) * d_ut(d, 0)\n",
    "    ##\n",
    "    def exp_util_att(d, a):\n",
    "        return p(d,a) * a_ut(a, 1) + (1 - p(d,a) ) * a_ut(a, 0)\n",
    "    \n",
    "    a_opt = np.zeros_like( d_values )\n",
    "    psi_d = np.zeros( len(d_values) )\n",
    "    \n",
    "    for i, d in enumerate(d_values):\n",
    "        ##\n",
    "        if exp_util_att(d, a_values[0]) > exp_util_att(d, a_values[1]):\n",
    "            a_opt[i] = a_values[0]\n",
    "        else:\n",
    "            a_opt[i] = a_values[1]\n",
    "        ##\n",
    "        psi_d[i] = exp_util_def(d, a_opt[i])\n",
    "        \n",
    "    d_opt = np.argmax(psi_d)\n",
    "    return d_opt, psi_d[d_opt]"
   ]
  },
  {
   "cell_type": "markdown",
   "metadata": {},
   "source": [
    "### Solve original problem"
   ]
  },
  {
   "cell_type": "code",
   "execution_count": 194,
   "metadata": {},
   "outputs": [
    {
     "name": "stdout",
     "output_type": "stream",
     "text": [
      "8 -1.1972173631218102\n"
     ]
    }
   ],
   "source": [
    "pr = lambda d, a: p.p1[d,a]\n",
    "d_opt, psi_d_opt = compute_exact_solution(p.d_values, p.a_values, p.d_util, p.a_util, pr)\n",
    "print(d_opt, psi_d_opt)"
   ]
  },
  {
   "cell_type": "markdown",
   "metadata": {},
   "source": [
    "### Solve perturbed problems"
   ]
  },
  {
   "cell_type": "code",
   "execution_count": 195,
   "metadata": {
    "collapsed": true
   },
   "outputs": [],
   "source": [
    "k = 0.001\n",
    "d_p = np.zeros(K)\n",
    "psi_p = np.zeros(K)"
   ]
  },
  {
   "cell_type": "code",
   "execution_count": 196,
   "metadata": {
    "collapsed": true
   },
   "outputs": [],
   "source": [
    "for i, e in enumerate(e_values):\n",
    "    a_util_pert = lambda a, theta: p.ua(p.ca[a, theta], e=e) ## Perturbed Attacker's Utility\n",
    "    p_pert = perturb_probabilities(k, p.p1) ## Perturbed Attacker's Probabilities\n",
    "    d_p[i], psi_p[i] = compute_exact_solution(p.d_values, p.a_values, p.d_util, a_util_pert, p_pert)\n",
    "##\n"
   ]
  },
  {
   "cell_type": "markdown",
   "metadata": {},
   "source": [
    "## Analysis"
   ]
  },
  {
   "cell_type": "code",
   "execution_count": 270,
   "metadata": {},
   "outputs": [
    {
     "data": {
      "text/plain": [
       "0.42463225638727925"
      ]
     },
     "execution_count": 270,
     "metadata": {},
     "output_type": "execute_result"
    }
   ],
   "source": [
    "np.max( abs( psi_p - psi_d_opt ) ) / abs(psi_d_opt)"
   ]
  },
  {
   "cell_type": "code",
   "execution_count": 198,
   "metadata": {},
   "outputs": [
    {
     "data": {
      "text/plain": [
       "9.0"
      ]
     },
     "execution_count": 198,
     "metadata": {},
     "output_type": "execute_result"
    }
   ],
   "source": [
    "d_p[ np.argmax( abs(psi_p - psi_d_opt))  ]"
   ]
  },
  {
   "cell_type": "code",
   "execution_count": 199,
   "metadata": {
    "collapsed": true
   },
   "outputs": [],
   "source": [
    "res = pd.DataFrame({\"pert_dec\" : d_p.astype(\"int\"), \"pert_util\" : psi_d_opt})"
   ]
  },
  {
   "cell_type": "code",
   "execution_count": 263,
   "metadata": {},
   "outputs": [
    {
     "data": {
      "image/png": "[encoded data removed]",
      "text/plain": [
       "<Figure size 432x288 with 1 Axes>"
      ]
     },
     "metadata": {},
     "output_type": "display_data"
    }
   ],
   "source": [
    "bins = np.arange(0, d_p.max() + 1.5) - 0.5\n",
    "\n",
    "# then you plot away\n",
    "fig, ax = plt.subplots()\n",
    "_ = ax.hist(d_p, bins, density=1, rwidth=0.9)\n",
    "\n",
    "ax.set_xlabel('Optimal Decision')\n",
    "ax.set_ylabel('Density')\n",
    "#\n",
    "ax.set_xticks(np.arange(0,10))\n",
    "#\n",
    "fig.savefig('../img/hist_sa2.eps', format='eps', dpi=600)\n"
   ]
  },
  {
   "cell_type": "code",
   "execution_count": 269,
   "metadata": {},
   "outputs": [
    {
     "data": {
      "text/plain": [
       "0.1642"
      ]
     },
     "execution_count": 269,
     "metadata": {},
     "output_type": "execute_result"
    }
   ],
   "source": [
    "np.sum(res.pert_dec == 7)/len(res)"
   ]
  }
 ],
 "metadata": {
  "kernelspec": {
   "display_name": "Python 3",
   "language": "python",
   "name": "python3"
  },
  "language_info": {
   "codemirror_mode": {
    "name": "ipython",
    "version": 3
   },
   "file_extension": ".py",
   "mimetype": "text/x-python",
   "name": "python",
   "nbconvert_exporter": "python",
   "pygments_lexer": "ipython3",
   "version": "3.6.3"
  }
 },
 "nbformat": 4,
 "nbformat_minor": 2
}
