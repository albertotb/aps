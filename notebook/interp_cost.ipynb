{
 "cells": [
  {
   "cell_type": "code",
   "execution_count": 1,
   "metadata": {},
   "outputs": [],
   "source": [
    "import matplotlib\n",
    "import pandas as pd\n",
    "import numpy as np\n",
    "from scipy.interpolate import interp1d\n",
    "import matplotlib.pyplot as plt\n",
    "\n",
    "%matplotlib inline"
   ]
  },
  {
   "cell_type": "code",
   "execution_count": 2,
   "metadata": {},
   "outputs": [],
   "source": [
    "def log_interp1d(xx, yy, kind='linear'):\n",
    "    logx = np.ma.log10(xx).filled(0)\n",
    "    logy = np.ma.log10(yy).filled(0)\n",
    "    #logx = np.log10(xx, where=xx>0)\n",
    "    #logy = np.log10(yy, where=yy>0)\n",
    "    lin_interp = interp1d(logx, logy, kind=kind)\n",
    "    log_interp = lambda zz: np.where(zz > 0, np.power(10.0,\n",
    "                                     lin_interp(np.log10(zz, where=zz>0))), 0)\n",
    "    return log_interp"
   ]
  },
  {
   "cell_type": "code",
   "execution_count": 4,
   "metadata": {},
   "outputs": [
    {
     "data": {
      "image/png": "[encoded data removed]",
      "text/plain": [
       "<Figure size 432x288 with 1 Axes>"
      ]
     },
     "metadata": {
      "needs_background": "light"
     },
     "output_type": "display_data"
    }
   ],
   "source": [
    "x = np.array([0, 2, 5, 10, 1000])\n",
    "y = np.array([0, 2400, 3600, 4800, 12000])\n",
    "\n",
    "f = log_interp1d(x, y)\n",
    "\n",
    "xnew = np.linspace(0, 1000, num=1000, endpoint=True)\n",
    "\n",
    "plt.plot(x, y, 'o', xnew, f(xnew), '-')\n",
    "plt.legend(['data', 'log_interp'], loc='best');"
   ]
  },
  {
   "cell_type": "code",
   "execution_count": 5,
   "metadata": {},
   "outputs": [],
   "source": [
    "yy = f(xnew)\n",
    "res = pd.DataFrame({\"x\":xnew, \"y\":yy})\n",
    "res.to_csv(\"../results/costs.csv\", index = False)"
   ]
  },
  {
   "cell_type": "code",
   "execution_count": null,
   "metadata": {},
   "outputs": [],
   "source": []
  }
 ],
 "metadata": {
  "kernelspec": {
   "display_name": "Python 3",
   "language": "python",
   "name": "python3"
  },
  "language_info": {
   "codemirror_mode": {
    "name": "ipython",
    "version": 3
   },
   "file_extension": ".py",
   "mimetype": "text/x-python",
   "name": "python",
   "nbconvert_exporter": "python",
   "pygments_lexer": "ipython3",
   "version": "3.7.3"
  }
 },
 "nbformat": 4,
 "nbformat_minor": 2
}
